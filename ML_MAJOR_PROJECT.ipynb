{
  "nbformat": 4,
  "nbformat_minor": 0,
  "metadata": {
    "colab": {
      "name": "ML_MAJOR_PROJECT.ipynb",
      "provenance": [],
      "include_colab_link": true
    },
    "kernelspec": {
      "display_name": "Python 3",
      "language": "python",
      "name": "python3"
    },
    "language_info": {
      "codemirror_mode": {
        "name": "ipython",
        "version": 3
      },
      "file_extension": ".py",
      "mimetype": "text/x-python",
      "name": "python",
      "nbconvert_exporter": "python",
      "pygments_lexer": "ipython3",
      "version": "3.7.6"
    }
  },
  "cells": [
    {
      "cell_type": "markdown",
      "metadata": {
        "id": "view-in-github",
        "colab_type": "text"
      },
      "source": [
        "<a href=\"https://colab.research.google.com/github/arjun1829/Minor-project-verzeo/blob/main/ML_MAJOR_PROJECT.ipynb\" target=\"_parent\"><img src=\"https://colab.research.google.com/assets/colab-badge.svg\" alt=\"Open In Colab\"/></a>"
      ]
    },
    {
      "cell_type": "code",
      "metadata": {
        "id": "6dvE0SkdLyTu",
        "outputId": "c8391ec9-a06e-47ba-d988-e40b5a163aa6"
      },
      "source": [
        "import numpy as np\n",
        "import matplotlib.pyplot as plt\n",
        "%matplotlib inline\n",
        "import pandas as pd\n",
        "import seaborn as sns\n",
        "import re\n",
        "import nltk\n",
        "nltk.download('stopwords')\n",
        "from nltk.corpus import stopwords\n",
        "from nltk.stem.porter import PorterStemmer\n",
        "from spellchecker import SpellChecker\n",
        "sns.set_style(style='darkgrid')"
      ],
      "execution_count": null,
      "outputs": [
        {
          "output_type": "stream",
          "text": [
            "[nltk_data] Downloading package stopwords to\n",
            "[nltk_data]     C:\\Users\\amart\\AppData\\Roaming\\nltk_data...\n",
            "[nltk_data]   Package stopwords is already up-to-date!\n"
          ],
          "name": "stderr"
        }
      ]
    },
    {
      "cell_type": "code",
      "metadata": {
        "id": "gA9fjd-yLyUH"
      },
      "source": [
        "dataset = pd.read_csv(\"Information.csv\",engine='python')"
      ],
      "execution_count": null,
      "outputs": []
    },
    {
      "cell_type": "code",
      "metadata": {
        "id": "ZMeOMH_uLyUV"
      },
      "source": [
        "col=dataset.columns.tolist()"
      ],
      "execution_count": null,
      "outputs": []
    },
    {
      "cell_type": "code",
      "metadata": {
        "id": "Aj3hWE4iLyUh",
        "outputId": "7df44473-e9a6-47d1-885e-4bf92558728a"
      },
      "source": [
        "col"
      ],
      "execution_count": null,
      "outputs": [
        {
          "output_type": "execute_result",
          "data": {
            "text/plain": [
              "['_unit_id',\n",
              " '_golden',\n",
              " '_unit_state',\n",
              " '_trusted_judgments',\n",
              " '_last_judgment_at',\n",
              " 'gender',\n",
              " 'gender:confidence',\n",
              " 'profile_yn',\n",
              " 'profile_yn:confidence',\n",
              " 'created',\n",
              " 'description',\n",
              " 'fav_number',\n",
              " 'gender_gold',\n",
              " 'link_color',\n",
              " 'name',\n",
              " 'profile_yn_gold',\n",
              " 'profileimage',\n",
              " 'retweet_count',\n",
              " 'sidebar_color',\n",
              " 'text',\n",
              " 'tweet_coord',\n",
              " 'tweet_count',\n",
              " 'tweet_created',\n",
              " 'tweet_id',\n",
              " 'tweet_location',\n",
              " 'user_timezone']"
            ]
          },
          "metadata": {
            "tags": []
          },
          "execution_count": 4
        }
      ]
    },
    {
      "cell_type": "code",
      "metadata": {
        "id": "7UaTRo0NLyUv",
        "outputId": "a7604718-29cb-4a85-dad8-0e606c7d6083"
      },
      "source": [
        "col_null={}\n",
        "for c in col:\n",
        "    col_null[c] = dataset[c].isnull().values.any()\n",
        "col_null"
      ],
      "execution_count": null,
      "outputs": [
        {
          "output_type": "execute_result",
          "data": {
            "text/plain": [
              "{'_unit_id': False,\n",
              " '_golden': False,\n",
              " '_unit_state': False,\n",
              " '_trusted_judgments': False,\n",
              " '_last_judgment_at': True,\n",
              " 'gender': True,\n",
              " 'gender:confidence': True,\n",
              " 'profile_yn': False,\n",
              " 'profile_yn:confidence': False,\n",
              " 'created': False,\n",
              " 'description': True,\n",
              " 'fav_number': False,\n",
              " 'gender_gold': True,\n",
              " 'link_color': False,\n",
              " 'name': False,\n",
              " 'profile_yn_gold': True,\n",
              " 'profileimage': False,\n",
              " 'retweet_count': False,\n",
              " 'sidebar_color': False,\n",
              " 'text': False,\n",
              " 'tweet_coord': True,\n",
              " 'tweet_count': False,\n",
              " 'tweet_created': False,\n",
              " 'tweet_id': False,\n",
              " 'tweet_location': True,\n",
              " 'user_timezone': True}"
            ]
          },
          "metadata": {
            "tags": []
          },
          "execution_count": 5
        }
      ]
    },
    {
      "cell_type": "code",
      "metadata": {
        "id": "Nmjte6Z2LyU9",
        "outputId": "a46af35e-1389-4e50-8d6b-d6880c90ee32"
      },
      "source": [
        "dataset"
      ],
      "execution_count": null,
      "outputs": [
        {
          "output_type": "execute_result",
          "data": {
            "text/html": [
              "<div>\n",
              "<style scoped>\n",
              "    .dataframe tbody tr th:only-of-type {\n",
              "        vertical-align: middle;\n",
              "    }\n",
              "\n",
              "    .dataframe tbody tr th {\n",
              "        vertical-align: top;\n",
              "    }\n",
              "\n",
              "    .dataframe thead th {\n",
              "        text-align: right;\n",
              "    }\n",
              "</style>\n",
              "<table border=\"1\" class=\"dataframe\">\n",
              "  <thead>\n",
              "    <tr style=\"text-align: right;\">\n",
              "      <th></th>\n",
              "      <th>_unit_id</th>\n",
              "      <th>_golden</th>\n",
              "      <th>_unit_state</th>\n",
              "      <th>_trusted_judgments</th>\n",
              "      <th>_last_judgment_at</th>\n",
              "      <th>gender</th>\n",
              "      <th>gender:confidence</th>\n",
              "      <th>profile_yn</th>\n",
              "      <th>profile_yn:confidence</th>\n",
              "      <th>created</th>\n",
              "      <th>...</th>\n",
              "      <th>profileimage</th>\n",
              "      <th>retweet_count</th>\n",
              "      <th>sidebar_color</th>\n",
              "      <th>text</th>\n",
              "      <th>tweet_coord</th>\n",
              "      <th>tweet_count</th>\n",
              "      <th>tweet_created</th>\n",
              "      <th>tweet_id</th>\n",
              "      <th>tweet_location</th>\n",
              "      <th>user_timezone</th>\n",
              "    </tr>\n",
              "  </thead>\n",
              "  <tbody>\n",
              "    <tr>\n",
              "      <th>0</th>\n",
              "      <td>815719226</td>\n",
              "      <td>False</td>\n",
              "      <td>finalized</td>\n",
              "      <td>3</td>\n",
              "      <td>10/26/15 23:24</td>\n",
              "      <td>male</td>\n",
              "      <td>1.0000</td>\n",
              "      <td>yes</td>\n",
              "      <td>1.0</td>\n",
              "      <td>12/5/13 1:48</td>\n",
              "      <td>...</td>\n",
              "      <td>https://pbs.twimg.com/profile_images/414342229...</td>\n",
              "      <td>0</td>\n",
              "      <td>FFFFFF</td>\n",
              "      <td>Robbie E Responds To Critics After Win Against...</td>\n",
              "      <td>NaN</td>\n",
              "      <td>110964</td>\n",
              "      <td>10/26/15 12:40</td>\n",
              "      <td>6.587300e+17</td>\n",
              "      <td>main; @Kan1shk3</td>\n",
              "      <td>Chennai</td>\n",
              "    </tr>\n",
              "    <tr>\n",
              "      <th>1</th>\n",
              "      <td>815719227</td>\n",
              "      <td>False</td>\n",
              "      <td>finalized</td>\n",
              "      <td>3</td>\n",
              "      <td>10/26/15 23:30</td>\n",
              "      <td>male</td>\n",
              "      <td>1.0000</td>\n",
              "      <td>yes</td>\n",
              "      <td>1.0</td>\n",
              "      <td>10/1/12 13:51</td>\n",
              "      <td>...</td>\n",
              "      <td>https://pbs.twimg.com/profile_images/539604221...</td>\n",
              "      <td>0</td>\n",
              "      <td>C0DEED</td>\n",
              "      <td>‰ÛÏIt felt like they were my friends and I was...</td>\n",
              "      <td>NaN</td>\n",
              "      <td>7471</td>\n",
              "      <td>10/26/15 12:40</td>\n",
              "      <td>6.587300e+17</td>\n",
              "      <td>NaN</td>\n",
              "      <td>Eastern Time (US &amp; Canada)</td>\n",
              "    </tr>\n",
              "    <tr>\n",
              "      <th>2</th>\n",
              "      <td>815719228</td>\n",
              "      <td>False</td>\n",
              "      <td>finalized</td>\n",
              "      <td>3</td>\n",
              "      <td>10/26/15 23:33</td>\n",
              "      <td>male</td>\n",
              "      <td>0.6625</td>\n",
              "      <td>yes</td>\n",
              "      <td>1.0</td>\n",
              "      <td>11/28/14 11:30</td>\n",
              "      <td>...</td>\n",
              "      <td>https://pbs.twimg.com/profile_images/657330418...</td>\n",
              "      <td>1</td>\n",
              "      <td>C0DEED</td>\n",
              "      <td>i absolutely adore when louis starts the songs...</td>\n",
              "      <td>NaN</td>\n",
              "      <td>5617</td>\n",
              "      <td>10/26/15 12:40</td>\n",
              "      <td>6.587300e+17</td>\n",
              "      <td>clcncl</td>\n",
              "      <td>Belgrade</td>\n",
              "    </tr>\n",
              "    <tr>\n",
              "      <th>3</th>\n",
              "      <td>815719229</td>\n",
              "      <td>False</td>\n",
              "      <td>finalized</td>\n",
              "      <td>3</td>\n",
              "      <td>10/26/15 23:10</td>\n",
              "      <td>male</td>\n",
              "      <td>1.0000</td>\n",
              "      <td>yes</td>\n",
              "      <td>1.0</td>\n",
              "      <td>6/11/09 22:39</td>\n",
              "      <td>...</td>\n",
              "      <td>https://pbs.twimg.com/profile_images/259703936...</td>\n",
              "      <td>0</td>\n",
              "      <td>C0DEED</td>\n",
              "      <td>Hi @JordanSpieth - Looking at the url - do you...</td>\n",
              "      <td>NaN</td>\n",
              "      <td>1693</td>\n",
              "      <td>10/26/15 12:40</td>\n",
              "      <td>6.587300e+17</td>\n",
              "      <td>Palo Alto, CA</td>\n",
              "      <td>Pacific Time (US &amp; Canada)</td>\n",
              "    </tr>\n",
              "    <tr>\n",
              "      <th>4</th>\n",
              "      <td>815719230</td>\n",
              "      <td>False</td>\n",
              "      <td>finalized</td>\n",
              "      <td>3</td>\n",
              "      <td>10/27/15 1:15</td>\n",
              "      <td>female</td>\n",
              "      <td>1.0000</td>\n",
              "      <td>yes</td>\n",
              "      <td>1.0</td>\n",
              "      <td>4/16/14 13:23</td>\n",
              "      <td>...</td>\n",
              "      <td>https://pbs.twimg.com/profile_images/564094871...</td>\n",
              "      <td>0</td>\n",
              "      <td>0</td>\n",
              "      <td>Watching Neighbours on Sky+ catching up with t...</td>\n",
              "      <td>NaN</td>\n",
              "      <td>31462</td>\n",
              "      <td>10/26/15 12:40</td>\n",
              "      <td>6.587300e+17</td>\n",
              "      <td>NaN</td>\n",
              "      <td>NaN</td>\n",
              "    </tr>\n",
              "    <tr>\n",
              "      <th>...</th>\n",
              "      <td>...</td>\n",
              "      <td>...</td>\n",
              "      <td>...</td>\n",
              "      <td>...</td>\n",
              "      <td>...</td>\n",
              "      <td>...</td>\n",
              "      <td>...</td>\n",
              "      <td>...</td>\n",
              "      <td>...</td>\n",
              "      <td>...</td>\n",
              "      <td>...</td>\n",
              "      <td>...</td>\n",
              "      <td>...</td>\n",
              "      <td>...</td>\n",
              "      <td>...</td>\n",
              "      <td>...</td>\n",
              "      <td>...</td>\n",
              "      <td>...</td>\n",
              "      <td>...</td>\n",
              "      <td>...</td>\n",
              "      <td>...</td>\n",
              "    </tr>\n",
              "    <tr>\n",
              "      <th>20045</th>\n",
              "      <td>815757572</td>\n",
              "      <td>True</td>\n",
              "      <td>golden</td>\n",
              "      <td>259</td>\n",
              "      <td>NaN</td>\n",
              "      <td>female</td>\n",
              "      <td>1.0000</td>\n",
              "      <td>yes</td>\n",
              "      <td>1.0</td>\n",
              "      <td>8/5/15 21:16</td>\n",
              "      <td>...</td>\n",
              "      <td>https://pbs.twimg.com/profile_images/656793310...</td>\n",
              "      <td>0</td>\n",
              "      <td>C0DEED</td>\n",
              "      <td>@lookupondeath ...Fine, and I'll drink tea too...</td>\n",
              "      <td>NaN</td>\n",
              "      <td>783</td>\n",
              "      <td>10/26/15 13:20</td>\n",
              "      <td>6.587400e+17</td>\n",
              "      <td>Verona ‰ªÁ</td>\n",
              "      <td>NaN</td>\n",
              "    </tr>\n",
              "    <tr>\n",
              "      <th>20046</th>\n",
              "      <td>815757681</td>\n",
              "      <td>True</td>\n",
              "      <td>golden</td>\n",
              "      <td>248</td>\n",
              "      <td>NaN</td>\n",
              "      <td>male</td>\n",
              "      <td>1.0000</td>\n",
              "      <td>yes</td>\n",
              "      <td>1.0</td>\n",
              "      <td>8/15/12 21:17</td>\n",
              "      <td>...</td>\n",
              "      <td>https://pbs.twimg.com/profile_images/639815429...</td>\n",
              "      <td>0</td>\n",
              "      <td>0</td>\n",
              "      <td>Greg Hardy you a good player and all but don't...</td>\n",
              "      <td>NaN</td>\n",
              "      <td>13523</td>\n",
              "      <td>10/26/15 12:40</td>\n",
              "      <td>6.587300e+17</td>\n",
              "      <td>Kansas City, MO</td>\n",
              "      <td>NaN</td>\n",
              "    </tr>\n",
              "    <tr>\n",
              "      <th>20047</th>\n",
              "      <td>815757830</td>\n",
              "      <td>True</td>\n",
              "      <td>golden</td>\n",
              "      <td>264</td>\n",
              "      <td>NaN</td>\n",
              "      <td>male</td>\n",
              "      <td>1.0000</td>\n",
              "      <td>yes</td>\n",
              "      <td>1.0</td>\n",
              "      <td>9/3/12 1:17</td>\n",
              "      <td>...</td>\n",
              "      <td>https://pbs.twimg.com/profile_images/655473271...</td>\n",
              "      <td>0</td>\n",
              "      <td>C0DEED</td>\n",
              "      <td>You can miss people and still never want to se...</td>\n",
              "      <td>NaN</td>\n",
              "      <td>26419</td>\n",
              "      <td>10/26/15 13:20</td>\n",
              "      <td>6.587400e+17</td>\n",
              "      <td>Lagos Nigeria</td>\n",
              "      <td>NaN</td>\n",
              "    </tr>\n",
              "    <tr>\n",
              "      <th>20048</th>\n",
              "      <td>815757921</td>\n",
              "      <td>True</td>\n",
              "      <td>golden</td>\n",
              "      <td>250</td>\n",
              "      <td>NaN</td>\n",
              "      <td>female</td>\n",
              "      <td>0.8489</td>\n",
              "      <td>yes</td>\n",
              "      <td>1.0</td>\n",
              "      <td>11/6/12 23:46</td>\n",
              "      <td>...</td>\n",
              "      <td>https://pbs.twimg.com/profile_images/657716093...</td>\n",
              "      <td>0</td>\n",
              "      <td>0</td>\n",
              "      <td>@bitemyapp i had noticed your tendency to pee ...</td>\n",
              "      <td>NaN</td>\n",
              "      <td>56073</td>\n",
              "      <td>10/26/15 12:40</td>\n",
              "      <td>6.587300e+17</td>\n",
              "      <td>Texas Hill Country</td>\n",
              "      <td>NaN</td>\n",
              "    </tr>\n",
              "    <tr>\n",
              "      <th>20049</th>\n",
              "      <td>815757985</td>\n",
              "      <td>True</td>\n",
              "      <td>golden</td>\n",
              "      <td>249</td>\n",
              "      <td>NaN</td>\n",
              "      <td>female</td>\n",
              "      <td>1.0000</td>\n",
              "      <td>yes</td>\n",
              "      <td>1.0</td>\n",
              "      <td>4/14/14 17:22</td>\n",
              "      <td>...</td>\n",
              "      <td>https://pbs.twimg.com/profile_images/655134724...</td>\n",
              "      <td>0</td>\n",
              "      <td>C0DEED</td>\n",
              "      <td>I think for my APUSH creative project I'm goin...</td>\n",
              "      <td>NaN</td>\n",
              "      <td>2922</td>\n",
              "      <td>10/26/15 13:19</td>\n",
              "      <td>6.587400e+17</td>\n",
              "      <td>NaN</td>\n",
              "      <td>NaN</td>\n",
              "    </tr>\n",
              "  </tbody>\n",
              "</table>\n",
              "<p>20050 rows × 26 columns</p>\n",
              "</div>"
            ],
            "text/plain": [
              "        _unit_id  _golden _unit_state  _trusted_judgments _last_judgment_at  \\\n",
              "0      815719226    False   finalized                   3    10/26/15 23:24   \n",
              "1      815719227    False   finalized                   3    10/26/15 23:30   \n",
              "2      815719228    False   finalized                   3    10/26/15 23:33   \n",
              "3      815719229    False   finalized                   3    10/26/15 23:10   \n",
              "4      815719230    False   finalized                   3     10/27/15 1:15   \n",
              "...          ...      ...         ...                 ...               ...   \n",
              "20045  815757572     True      golden                 259               NaN   \n",
              "20046  815757681     True      golden                 248               NaN   \n",
              "20047  815757830     True      golden                 264               NaN   \n",
              "20048  815757921     True      golden                 250               NaN   \n",
              "20049  815757985     True      golden                 249               NaN   \n",
              "\n",
              "       gender  gender:confidence profile_yn  profile_yn:confidence  \\\n",
              "0        male             1.0000        yes                    1.0   \n",
              "1        male             1.0000        yes                    1.0   \n",
              "2        male             0.6625        yes                    1.0   \n",
              "3        male             1.0000        yes                    1.0   \n",
              "4      female             1.0000        yes                    1.0   \n",
              "...       ...                ...        ...                    ...   \n",
              "20045  female             1.0000        yes                    1.0   \n",
              "20046    male             1.0000        yes                    1.0   \n",
              "20047    male             1.0000        yes                    1.0   \n",
              "20048  female             0.8489        yes                    1.0   \n",
              "20049  female             1.0000        yes                    1.0   \n",
              "\n",
              "              created  ...                                       profileimage  \\\n",
              "0        12/5/13 1:48  ...  https://pbs.twimg.com/profile_images/414342229...   \n",
              "1       10/1/12 13:51  ...  https://pbs.twimg.com/profile_images/539604221...   \n",
              "2      11/28/14 11:30  ...  https://pbs.twimg.com/profile_images/657330418...   \n",
              "3       6/11/09 22:39  ...  https://pbs.twimg.com/profile_images/259703936...   \n",
              "4       4/16/14 13:23  ...  https://pbs.twimg.com/profile_images/564094871...   \n",
              "...               ...  ...                                                ...   \n",
              "20045    8/5/15 21:16  ...  https://pbs.twimg.com/profile_images/656793310...   \n",
              "20046   8/15/12 21:17  ...  https://pbs.twimg.com/profile_images/639815429...   \n",
              "20047     9/3/12 1:17  ...  https://pbs.twimg.com/profile_images/655473271...   \n",
              "20048   11/6/12 23:46  ...  https://pbs.twimg.com/profile_images/657716093...   \n",
              "20049   4/14/14 17:22  ...  https://pbs.twimg.com/profile_images/655134724...   \n",
              "\n",
              "       retweet_count sidebar_color  \\\n",
              "0                  0        FFFFFF   \n",
              "1                  0        C0DEED   \n",
              "2                  1        C0DEED   \n",
              "3                  0        C0DEED   \n",
              "4                  0             0   \n",
              "...              ...           ...   \n",
              "20045              0        C0DEED   \n",
              "20046              0             0   \n",
              "20047              0        C0DEED   \n",
              "20048              0             0   \n",
              "20049              0        C0DEED   \n",
              "\n",
              "                                                    text tweet_coord  \\\n",
              "0      Robbie E Responds To Critics After Win Against...         NaN   \n",
              "1      ‰ÛÏIt felt like they were my friends and I was...         NaN   \n",
              "2      i absolutely adore when louis starts the songs...         NaN   \n",
              "3      Hi @JordanSpieth - Looking at the url - do you...         NaN   \n",
              "4      Watching Neighbours on Sky+ catching up with t...         NaN   \n",
              "...                                                  ...         ...   \n",
              "20045  @lookupondeath ...Fine, and I'll drink tea too...         NaN   \n",
              "20046  Greg Hardy you a good player and all but don't...         NaN   \n",
              "20047  You can miss people and still never want to se...         NaN   \n",
              "20048  @bitemyapp i had noticed your tendency to pee ...         NaN   \n",
              "20049  I think for my APUSH creative project I'm goin...         NaN   \n",
              "\n",
              "      tweet_count   tweet_created      tweet_id      tweet_location  \\\n",
              "0          110964  10/26/15 12:40  6.587300e+17     main; @Kan1shk3   \n",
              "1            7471  10/26/15 12:40  6.587300e+17                 NaN   \n",
              "2            5617  10/26/15 12:40  6.587300e+17              clcncl   \n",
              "3            1693  10/26/15 12:40  6.587300e+17       Palo Alto, CA   \n",
              "4           31462  10/26/15 12:40  6.587300e+17                 NaN   \n",
              "...           ...             ...           ...                 ...   \n",
              "20045         783  10/26/15 13:20  6.587400e+17          Verona ‰ªÁ   \n",
              "20046       13523  10/26/15 12:40  6.587300e+17     Kansas City, MO   \n",
              "20047       26419  10/26/15 13:20  6.587400e+17      Lagos Nigeria    \n",
              "20048       56073  10/26/15 12:40  6.587300e+17  Texas Hill Country   \n",
              "20049        2922  10/26/15 13:19  6.587400e+17                 NaN   \n",
              "\n",
              "                    user_timezone  \n",
              "0                         Chennai  \n",
              "1      Eastern Time (US & Canada)  \n",
              "2                        Belgrade  \n",
              "3      Pacific Time (US & Canada)  \n",
              "4                             NaN  \n",
              "...                           ...  \n",
              "20045                         NaN  \n",
              "20046                         NaN  \n",
              "20047                         NaN  \n",
              "20048                         NaN  \n",
              "20049                         NaN  \n",
              "\n",
              "[20050 rows x 26 columns]"
            ]
          },
          "metadata": {
            "tags": []
          },
          "execution_count": 6
        }
      ]
    },
    {
      "cell_type": "code",
      "metadata": {
        "id": "JAD0GtMNLyVL"
      },
      "source": [
        "dataset_new = dataset.drop(['user_timezone','tweet_location','tweet_coord','tweet_created','sidebar_color','profileimage','link_color','fav_number','description','profile_yn:confidence','_last_judgment_at','_unit_id','_golden','_unit_state','gender_gold','name','profile_yn_gold','tweet_id','created'],axis=1)"
      ],
      "execution_count": null,
      "outputs": []
    },
    {
      "cell_type": "code",
      "metadata": {
        "id": "SEis1RhTLyVY"
      },
      "source": [
        "dataset_new.dropna(inplace=True)"
      ],
      "execution_count": null,
      "outputs": []
    },
    {
      "cell_type": "code",
      "metadata": {
        "id": "ZgKrt9VoLyVj"
      },
      "source": [
        "clean_text=[]\n",
        "for i in dataset_new['text']:\n",
        "    message = re.sub(r'''(?i)\\b((?:https?://|www\\d{0,3}[.]|[a-z0-9.\\-]+[.][a-z]{2,4}/)(?:[^\\s()<>]+|\\(([^\\s()<>]+|(\\([^\\s()<>]+\\)))*\\))+(?:\\(([^\\s()<>]+|(\\([^\\s()<>]+\\)))*\\)|[^\\s`!()\\[\\]{};:'\".,<>?«»“”‘’]))''', \" \", i)\n",
        "    message = re.sub(r\"[,@\\'?\\:.$%_]\", \"\",message)\n",
        "    message = re.sub('[^a-zA-Z/:.\\d]',' ',message)\n",
        "    message = re.sub(r\"\\s+\",\" \", message)\n",
        "    message = message.lower()\n",
        "    message = message.split()\n",
        "    ps = PorterStemmer()\n",
        "    all_words = stopwords.words('english')\n",
        "    message = [ps.stem(word) for word in message if not word in set(all_words)]\n",
        "    message = ' '.join(message)\n",
        "    clean_text.append(message)"
      ],
      "execution_count": null,
      "outputs": []
    },
    {
      "cell_type": "code",
      "metadata": {
        "id": "0Q6rQtjiLyVs",
        "outputId": "1b4953b3-1699-4adc-948e-e979f5a0a653"
      },
      "source": [
        "dataset_new['clean_text']=clean_text\n",
        "print(dataset_new['clean_text'][0])"
      ],
      "execution_count": null,
      "outputs": [
        {
          "output_type": "stream",
          "text": [
            "robbi e respond critic win eddi edward worldtitleseri\n"
          ],
          "name": "stdout"
        }
      ]
    },
    {
      "cell_type": "code",
      "metadata": {
        "id": "X-P3Miu2LyV3"
      },
      "source": [
        "dataset_new.drop('text',inplace=True,axis=1)\n",
        "dataset_new = dataset_new[(dataset_new['gender'] == 'male') | (dataset_new['gender'] == 'female')]\n",
        "dataset_new = dataset_new[dataset_new['gender:confidence'] == 1]"
      ],
      "execution_count": null,
      "outputs": []
    },
    {
      "cell_type": "code",
      "metadata": {
        "id": "suqJIrrhLyWA",
        "outputId": "9d9f19da-fd58-442a-c7df-1b55e73f233b"
      },
      "source": [
        "dataset_new"
      ],
      "execution_count": null,
      "outputs": [
        {
          "output_type": "execute_result",
          "data": {
            "text/html": [
              "<div>\n",
              "<style scoped>\n",
              "    .dataframe tbody tr th:only-of-type {\n",
              "        vertical-align: middle;\n",
              "    }\n",
              "\n",
              "    .dataframe tbody tr th {\n",
              "        vertical-align: top;\n",
              "    }\n",
              "\n",
              "    .dataframe thead th {\n",
              "        text-align: right;\n",
              "    }\n",
              "</style>\n",
              "<table border=\"1\" class=\"dataframe\">\n",
              "  <thead>\n",
              "    <tr style=\"text-align: right;\">\n",
              "      <th></th>\n",
              "      <th>_trusted_judgments</th>\n",
              "      <th>gender</th>\n",
              "      <th>gender:confidence</th>\n",
              "      <th>profile_yn</th>\n",
              "      <th>retweet_count</th>\n",
              "      <th>tweet_count</th>\n",
              "      <th>clean_text</th>\n",
              "    </tr>\n",
              "  </thead>\n",
              "  <tbody>\n",
              "    <tr>\n",
              "      <th>0</th>\n",
              "      <td>3</td>\n",
              "      <td>male</td>\n",
              "      <td>1.0</td>\n",
              "      <td>yes</td>\n",
              "      <td>0</td>\n",
              "      <td>110964</td>\n",
              "      <td>robbi e respond critic win eddi edward worldti...</td>\n",
              "    </tr>\n",
              "    <tr>\n",
              "      <th>1</th>\n",
              "      <td>3</td>\n",
              "      <td>male</td>\n",
              "      <td>1.0</td>\n",
              "      <td>yes</td>\n",
              "      <td>0</td>\n",
              "      <td>7471</td>\n",
              "      <td>felt like friend live stori retir ian1</td>\n",
              "    </tr>\n",
              "    <tr>\n",
              "      <th>3</th>\n",
              "      <td>3</td>\n",
              "      <td>male</td>\n",
              "      <td>1.0</td>\n",
              "      <td>yes</td>\n",
              "      <td>0</td>\n",
              "      <td>1693</td>\n",
              "      <td>hi jordanspieth look url use ifttt dont typic ...</td>\n",
              "    </tr>\n",
              "    <tr>\n",
              "      <th>4</th>\n",
              "      <td>3</td>\n",
              "      <td>female</td>\n",
              "      <td>1.0</td>\n",
              "      <td>yes</td>\n",
              "      <td>0</td>\n",
              "      <td>31462</td>\n",
              "      <td>watch neighbour sky catch neighb xxx xxx</td>\n",
              "    </tr>\n",
              "    <tr>\n",
              "      <th>5</th>\n",
              "      <td>3</td>\n",
              "      <td>female</td>\n",
              "      <td>1.0</td>\n",
              "      <td>yes</td>\n",
              "      <td>0</td>\n",
              "      <td>20036</td>\n",
              "      <td>ive seen peopl train lamp chair tv etc</td>\n",
              "    </tr>\n",
              "    <tr>\n",
              "      <th>...</th>\n",
              "      <td>...</td>\n",
              "      <td>...</td>\n",
              "      <td>...</td>\n",
              "      <td>...</td>\n",
              "      <td>...</td>\n",
              "      <td>...</td>\n",
              "      <td>...</td>\n",
              "    </tr>\n",
              "    <tr>\n",
              "      <th>20044</th>\n",
              "      <td>227</td>\n",
              "      <td>female</td>\n",
              "      <td>1.0</td>\n",
              "      <td>yes</td>\n",
              "      <td>0</td>\n",
              "      <td>6669</td>\n",
              "      <td>need ride home practic rain hard asf</td>\n",
              "    </tr>\n",
              "    <tr>\n",
              "      <th>20045</th>\n",
              "      <td>259</td>\n",
              "      <td>female</td>\n",
              "      <td>1.0</td>\n",
              "      <td>yes</td>\n",
              "      <td>0</td>\n",
              "      <td>783</td>\n",
              "      <td>lookupondeath fine ill drink tea love</td>\n",
              "    </tr>\n",
              "    <tr>\n",
              "      <th>20046</th>\n",
              "      <td>248</td>\n",
              "      <td>male</td>\n",
              "      <td>1.0</td>\n",
              "      <td>yes</td>\n",
              "      <td>0</td>\n",
              "      <td>13523</td>\n",
              "      <td>greg hardi good player dont get face dez bryan...</td>\n",
              "    </tr>\n",
              "    <tr>\n",
              "      <th>20047</th>\n",
              "      <td>264</td>\n",
              "      <td>male</td>\n",
              "      <td>1.0</td>\n",
              "      <td>yes</td>\n",
              "      <td>0</td>\n",
              "      <td>26419</td>\n",
              "      <td>miss peopl still never want see</td>\n",
              "    </tr>\n",
              "    <tr>\n",
              "      <th>20049</th>\n",
              "      <td>249</td>\n",
              "      <td>female</td>\n",
              "      <td>1.0</td>\n",
              "      <td>yes</td>\n",
              "      <td>0</td>\n",
              "      <td>2922</td>\n",
              "      <td>think apush creativ project im go bring bacon ...</td>\n",
              "    </tr>\n",
              "  </tbody>\n",
              "</table>\n",
              "<p>10020 rows × 7 columns</p>\n",
              "</div>"
            ],
            "text/plain": [
              "       _trusted_judgments  gender  gender:confidence profile_yn  \\\n",
              "0                       3    male                1.0        yes   \n",
              "1                       3    male                1.0        yes   \n",
              "3                       3    male                1.0        yes   \n",
              "4                       3  female                1.0        yes   \n",
              "5                       3  female                1.0        yes   \n",
              "...                   ...     ...                ...        ...   \n",
              "20044                 227  female                1.0        yes   \n",
              "20045                 259  female                1.0        yes   \n",
              "20046                 248    male                1.0        yes   \n",
              "20047                 264    male                1.0        yes   \n",
              "20049                 249  female                1.0        yes   \n",
              "\n",
              "       retweet_count  tweet_count  \\\n",
              "0                  0       110964   \n",
              "1                  0         7471   \n",
              "3                  0         1693   \n",
              "4                  0        31462   \n",
              "5                  0        20036   \n",
              "...              ...          ...   \n",
              "20044              0         6669   \n",
              "20045              0          783   \n",
              "20046              0        13523   \n",
              "20047              0        26419   \n",
              "20049              0         2922   \n",
              "\n",
              "                                              clean_text  \n",
              "0      robbi e respond critic win eddi edward worldti...  \n",
              "1                 felt like friend live stori retir ian1  \n",
              "3      hi jordanspieth look url use ifttt dont typic ...  \n",
              "4               watch neighbour sky catch neighb xxx xxx  \n",
              "5                 ive seen peopl train lamp chair tv etc  \n",
              "...                                                  ...  \n",
              "20044               need ride home practic rain hard asf  \n",
              "20045              lookupondeath fine ill drink tea love  \n",
              "20046  greg hardi good player dont get face dez bryan...  \n",
              "20047                    miss peopl still never want see  \n",
              "20049  think apush creativ project im go bring bacon ...  \n",
              "\n",
              "[10020 rows x 7 columns]"
            ]
          },
          "metadata": {
            "tags": []
          },
          "execution_count": 12
        }
      ]
    },
    {
      "cell_type": "code",
      "metadata": {
        "id": "XYWhcSaKLyWL"
      },
      "source": [
        "text_len = dataset_new['clean_text'].apply(len)"
      ],
      "execution_count": null,
      "outputs": []
    },
    {
      "cell_type": "code",
      "metadata": {
        "id": "zHVoxnz7LyWU"
      },
      "source": [
        "dataset_new['text_len'] = text_len"
      ],
      "execution_count": null,
      "outputs": []
    },
    {
      "cell_type": "code",
      "metadata": {
        "id": "rOs3Sl6KLyWe",
        "outputId": "f5806599-6424-4347-8ed8-3a5e20fb20b9"
      },
      "source": [
        "dataset_new.info()"
      ],
      "execution_count": null,
      "outputs": [
        {
          "output_type": "stream",
          "text": [
            "<class 'pandas.core.frame.DataFrame'>\n",
            "Int64Index: 10020 entries, 0 to 20049\n",
            "Data columns (total 8 columns):\n",
            " #   Column              Non-Null Count  Dtype  \n",
            "---  ------              --------------  -----  \n",
            " 0   _trusted_judgments  10020 non-null  int64  \n",
            " 1   gender              10020 non-null  object \n",
            " 2   gender:confidence   10020 non-null  float64\n",
            " 3   profile_yn          10020 non-null  object \n",
            " 4   retweet_count       10020 non-null  int64  \n",
            " 5   tweet_count         10020 non-null  int64  \n",
            " 6   clean_text          10020 non-null  object \n",
            " 7   text_len            10020 non-null  int64  \n",
            "dtypes: float64(1), int64(4), object(3)\n",
            "memory usage: 704.5+ KB\n"
          ],
          "name": "stdout"
        }
      ]
    },
    {
      "cell_type": "code",
      "metadata": {
        "id": "EgzW7RMXLyWk",
        "outputId": "f4aacc22-cdf4-4f26-e78a-4d49226fd2f5"
      },
      "source": [
        "dataset_new.describe()"
      ],
      "execution_count": null,
      "outputs": [
        {
          "output_type": "execute_result",
          "data": {
            "text/html": [
              "<div>\n",
              "<style scoped>\n",
              "    .dataframe tbody tr th:only-of-type {\n",
              "        vertical-align: middle;\n",
              "    }\n",
              "\n",
              "    .dataframe tbody tr th {\n",
              "        vertical-align: top;\n",
              "    }\n",
              "\n",
              "    .dataframe thead th {\n",
              "        text-align: right;\n",
              "    }\n",
              "</style>\n",
              "<table border=\"1\" class=\"dataframe\">\n",
              "  <thead>\n",
              "    <tr style=\"text-align: right;\">\n",
              "      <th></th>\n",
              "      <th>_trusted_judgments</th>\n",
              "      <th>gender:confidence</th>\n",
              "      <th>retweet_count</th>\n",
              "      <th>tweet_count</th>\n",
              "      <th>text_len</th>\n",
              "    </tr>\n",
              "  </thead>\n",
              "  <tbody>\n",
              "    <tr>\n",
              "      <th>count</th>\n",
              "      <td>10020.000000</td>\n",
              "      <td>10020.0</td>\n",
              "      <td>10020.000000</td>\n",
              "      <td>1.002000e+04</td>\n",
              "      <td>10020.000000</td>\n",
              "    </tr>\n",
              "    <tr>\n",
              "      <th>mean</th>\n",
              "      <td>3.592914</td>\n",
              "      <td>1.0</td>\n",
              "      <td>0.066866</td>\n",
              "      <td>2.736284e+04</td>\n",
              "      <td>53.115469</td>\n",
              "    </tr>\n",
              "    <tr>\n",
              "      <th>std</th>\n",
              "      <td>12.116621</td>\n",
              "      <td>0.0</td>\n",
              "      <td>1.629073</td>\n",
              "      <td>6.658637e+04</td>\n",
              "      <td>21.676581</td>\n",
              "    </tr>\n",
              "    <tr>\n",
              "      <th>min</th>\n",
              "      <td>3.000000</td>\n",
              "      <td>1.0</td>\n",
              "      <td>0.000000</td>\n",
              "      <td>1.000000e+00</td>\n",
              "      <td>0.000000</td>\n",
              "    </tr>\n",
              "    <tr>\n",
              "      <th>25%</th>\n",
              "      <td>3.000000</td>\n",
              "      <td>1.0</td>\n",
              "      <td>0.000000</td>\n",
              "      <td>2.190000e+03</td>\n",
              "      <td>36.000000</td>\n",
              "    </tr>\n",
              "    <tr>\n",
              "      <th>50%</th>\n",
              "      <td>3.000000</td>\n",
              "      <td>1.0</td>\n",
              "      <td>0.000000</td>\n",
              "      <td>8.869500e+03</td>\n",
              "      <td>53.000000</td>\n",
              "    </tr>\n",
              "    <tr>\n",
              "      <th>75%</th>\n",
              "      <td>3.000000</td>\n",
              "      <td>1.0</td>\n",
              "      <td>0.000000</td>\n",
              "      <td>2.804025e+04</td>\n",
              "      <td>70.000000</td>\n",
              "    </tr>\n",
              "    <tr>\n",
              "      <th>max</th>\n",
              "      <td>274.000000</td>\n",
              "      <td>1.0</td>\n",
              "      <td>153.000000</td>\n",
              "      <td>2.680199e+06</td>\n",
              "      <td>124.000000</td>\n",
              "    </tr>\n",
              "  </tbody>\n",
              "</table>\n",
              "</div>"
            ],
            "text/plain": [
              "       _trusted_judgments  gender:confidence  retweet_count   tweet_count  \\\n",
              "count        10020.000000            10020.0   10020.000000  1.002000e+04   \n",
              "mean             3.592914                1.0       0.066866  2.736284e+04   \n",
              "std             12.116621                0.0       1.629073  6.658637e+04   \n",
              "min              3.000000                1.0       0.000000  1.000000e+00   \n",
              "25%              3.000000                1.0       0.000000  2.190000e+03   \n",
              "50%              3.000000                1.0       0.000000  8.869500e+03   \n",
              "75%              3.000000                1.0       0.000000  2.804025e+04   \n",
              "max            274.000000                1.0     153.000000  2.680199e+06   \n",
              "\n",
              "           text_len  \n",
              "count  10020.000000  \n",
              "mean      53.115469  \n",
              "std       21.676581  \n",
              "min        0.000000  \n",
              "25%       36.000000  \n",
              "50%       53.000000  \n",
              "75%       70.000000  \n",
              "max      124.000000  "
            ]
          },
          "metadata": {
            "tags": []
          },
          "execution_count": 16
        }
      ]
    },
    {
      "cell_type": "code",
      "metadata": {
        "id": "CBG-bklPLyWp",
        "outputId": "40392861-c13f-4526-f162-dea662b4ffd1"
      },
      "source": [
        "dataset_new['profile_yn'].unique()"
      ],
      "execution_count": null,
      "outputs": [
        {
          "output_type": "execute_result",
          "data": {
            "text/plain": [
              "array(['yes'], dtype=object)"
            ]
          },
          "metadata": {
            "tags": []
          },
          "execution_count": 17
        }
      ]
    },
    {
      "cell_type": "code",
      "metadata": {
        "id": "kv_zJmz8LyWu",
        "outputId": "619a19ee-7ead-460d-f43f-e7a5b32b1902"
      },
      "source": [
        "sns.pairplot(dataset_new,hue='gender')"
      ],
      "execution_count": null,
      "outputs": [
        {
          "output_type": "stream",
          "text": [
            "c:\\python38\\lib\\site-packages\\seaborn\\distributions.py:283: UserWarning: Data must have variance to compute a kernel density estimate.\n",
            "  warnings.warn(msg, UserWarning)\n",
            "c:\\python38\\lib\\site-packages\\seaborn\\distributions.py:283: UserWarning: Data must have variance to compute a kernel density estimate.\n",
            "  warnings.warn(msg, UserWarning)\n"
          ],
          "name": "stderr"
        },
        {
          "output_type": "execute_result",
          "data": {
            "text/plain": [
              "<seaborn.axisgrid.PairGrid at 0x20b5266fa30>"
            ]
          },
          "metadata": {
            "tags": []
          },
          "execution_count": 18
        },
        {
          "output_type": "display_data",
          "data": {
            "image/png": "[encoded data removed]",
            "text/plain": [
              "<Figure size 966.125x900 with 30 Axes>"
            ]
          },
          "metadata": {
            "tags": []
          }
        }
      ]
    },
    {
      "cell_type": "code",
      "metadata": {
        "id": "UcbXD9bzLyWz",
        "outputId": "7fa21056-2189-4902-cf48-4bf42c21337a"
      },
      "source": [
        "sns.barplot(x='gender',y='text_len',data=dataset_new)"
      ],
      "execution_count": null,
      "outputs": [
        {
          "output_type": "execute_result",
          "data": {
            "text/plain": [
              "<matplotlib.axes._subplots.AxesSubplot at 0x20b59dad430>"
            ]
          },
          "metadata": {
            "tags": []
          },
          "execution_count": 19
        },
        {
          "output_type": "display_data",
          "data": {
            "image/png": "[encoded data removed]",
            "text/plain": [
              "<Figure size 432x288 with 1 Axes>"
            ]
          },
          "metadata": {
            "tags": []
          }
        }
      ]
    },
    {
      "cell_type": "code",
      "metadata": {
        "id": "QrU5etoNLyW3",
        "outputId": "cef946c2-f8c7-45a1-fc42-d7b79aef2b7f"
      },
      "source": [
        "sns.barplot(x='gender',y='tweet_count',data=dataset_new)\n"
      ],
      "execution_count": null,
      "outputs": [
        {
          "output_type": "execute_result",
          "data": {
            "text/plain": [
              "<matplotlib.axes._subplots.AxesSubplot at 0x20b5a136880>"
            ]
          },
          "metadata": {
            "tags": []
          },
          "execution_count": 20
        },
        {
          "output_type": "display_data",
          "data": {
            "image/png": "[encoded data removed]",
            "text/plain": [
              "<Figure size 432x288 with 1 Axes>"
            ]
          },
          "metadata": {
            "tags": []
          }
        }
      ]
    },
    {
      "cell_type": "code",
      "metadata": {
        "id": "7UOYkJcGLyW7",
        "outputId": "48af2f1b-cddd-4966-fd9e-5ab760c984d0"
      },
      "source": [
        "sns.barplot(x='gender',y='retweet_count',data=dataset_new)"
      ],
      "execution_count": null,
      "outputs": [
        {
          "output_type": "execute_result",
          "data": {
            "text/plain": [
              "<matplotlib.axes._subplots.AxesSubplot at 0x20b5a4e59d0>"
            ]
          },
          "metadata": {
            "tags": []
          },
          "execution_count": 21
        },
        {
          "output_type": "display_data",
          "data": {
            "image/png": "[encoded data removed]",
            "text/plain": [
              "<Figure size 432x288 with 1 Axes>"
            ]
          },
          "metadata": {
            "tags": []
          }
        }
      ]
    },
    {
      "cell_type": "code",
      "metadata": {
        "id": "C-q8Yp7-LyW-",
        "outputId": "b5541eac-2eb8-4a54-e692-3aded2deb465"
      },
      "source": [
        "sns.barplot(x='gender',y='_trusted_judgments',data=dataset_new)"
      ],
      "execution_count": null,
      "outputs": [
        {
          "output_type": "execute_result",
          "data": {
            "text/plain": [
              "<matplotlib.axes._subplots.AxesSubplot at 0x20b5a5077f0>"
            ]
          },
          "metadata": {
            "tags": []
          },
          "execution_count": 22
        },
        {
          "output_type": "display_data",
          "data": {
            "image/png": "[encoded data removed]",
            "text/plain": [
              "<Figure size 432x288 with 1 Axes>"
            ]
          },
          "metadata": {
            "tags": []
          }
        }
      ]
    },
    {
      "cell_type": "code",
      "metadata": {
        "id": "ByMHEXPWLyXB",
        "outputId": "4b71be74-3343-4361-f91b-738f72d69fee"
      },
      "source": [
        "plt.scatter(x=dataset_new['tweet_count'],y=dataset_new['_trusted_judgments'])"
      ],
      "execution_count": null,
      "outputs": [
        {
          "output_type": "execute_result",
          "data": {
            "text/plain": [
              "<matplotlib.collections.PathCollection at 0x20b5a563670>"
            ]
          },
          "metadata": {
            "tags": []
          },
          "execution_count": 23
        },
        {
          "output_type": "display_data",
          "data": {
            "image/png": "[encoded data removed]",
            "text/plain": [
              "<Figure size 432x288 with 1 Axes>"
            ]
          },
          "metadata": {
            "tags": []
          }
        }
      ]
    },
    {
      "cell_type": "code",
      "metadata": {
        "id": "DV_R6kRGLyXE",
        "outputId": "a387a660-691e-41a9-f509-cd7543ac5011"
      },
      "source": [
        "sns.countplot(x='gender',data=dataset_new)"
      ],
      "execution_count": null,
      "outputs": [
        {
          "output_type": "execute_result",
          "data": {
            "text/plain": [
              "<matplotlib.axes._subplots.AxesSubplot at 0x20b5a58edc0>"
            ]
          },
          "metadata": {
            "tags": []
          },
          "execution_count": 24
        },
        {
          "output_type": "display_data",
          "data": {
            "image/png": "[encoded data removed]",
            "text/plain": [
              "<Figure size 432x288 with 1 Axes>"
            ]
          },
          "metadata": {
            "tags": []
          }
        }
      ]
    },
    {
      "cell_type": "code",
      "metadata": {
        "id": "RT9YdTk2LyXI",
        "outputId": "f5cb6675-40c7-4252-8901-216c0a9249ba"
      },
      "source": [
        "# Map to upper,lower, and diagonal\n",
        "g = sns.PairGrid(dataset_new,hue='gender')\n",
        "g.map_diag(plt.hist)\n",
        "g.map_upper(plt.scatter)\n",
        "g.map_lower(plt.scatter)"
      ],
      "execution_count": null,
      "outputs": [
        {
          "output_type": "execute_result",
          "data": {
            "text/plain": [
              "<seaborn.axisgrid.PairGrid at 0x20b5a5b5c70>"
            ]
          },
          "metadata": {
            "tags": []
          },
          "execution_count": 25
        },
        {
          "output_type": "display_data",
          "data": {
            "image/png": "[encoded data removed]",
            "text/plain": [
              "<Figure size 900x900 with 30 Axes>"
            ]
          },
          "metadata": {
            "tags": []
          }
        }
      ]
    },
    {
      "cell_type": "code",
      "metadata": {
        "id": "SABUxUUtLyXL",
        "scrolled": true,
        "outputId": "d0dcb75f-5505-4674-efcf-2896c8ec2e0c"
      },
      "source": [
        "g = sns.JointGrid(x=\"tweet_count\", y=\"text_len\", data=dataset_new)\n",
        "g = g.plot(sns.regplot, sns.distplot)"
      ],
      "execution_count": null,
      "outputs": [
        {
          "output_type": "display_data",
          "data": {
            "image/png": "[encoded data removed]",
            "text/plain": [
              "<Figure size 432x432 with 3 Axes>"
            ]
          },
          "metadata": {
            "tags": []
          }
        }
      ]
    },
    {
      "cell_type": "markdown",
      "metadata": {
        "id": "uqTdP_YiLyXO"
      },
      "source": [
        "1st Question"
      ]
    },
    {
      "cell_type": "code",
      "metadata": {
        "id": "Hs19pYZCLyXP"
      },
      "source": [
        "male_text = dataset_new[dataset_new[\"gender\"] == 'male']['clean_text']\n",
        "female_text = dataset_new[dataset_new['gender']=='female']['clean_text']"
      ],
      "execution_count": null,
      "outputs": []
    },
    {
      "cell_type": "code",
      "metadata": {
        "id": "gi1Tp3c7LyXS"
      },
      "source": [
        "male_corpus=[]\n",
        "for i in male_text:\n",
        "    message = i.lower()\n",
        "    message = message.split()\n",
        "    ps = PorterStemmer()\n",
        "    all_words = stopwords.words('english')\n",
        "    message = [ps.stem(word) for word in message if not word in set(all_words)]\n",
        "    message = ' '.join(message)\n",
        "    male_corpus.append(message)"
      ],
      "execution_count": null,
      "outputs": []
    },
    {
      "cell_type": "code",
      "metadata": {
        "id": "Z0Cl-M6ELyXU",
        "outputId": "46e1c931-2a3d-4c7b-b959-de3f7b72daf7"
      },
      "source": [
        "male_words={}\n",
        "for i in range(0,len(male_corpus)):\n",
        "    text = male_corpus[i].split(' ')\n",
        "    for word in text:\n",
        "        if word in male_words:\n",
        "            male_words[word]+=1\n",
        "        else:\n",
        "            male_words.update({word:1})\n",
        "male_all_words = pd.Series(male_words)\n",
        "top_10_male = male_all_words.sort_values(ascending=False)[:11].to_dict()\n",
        "print(top_10_male)"
      ],
      "execution_count": null,
      "outputs": [
        {
          "output_type": "stream",
          "text": [
            "{'get': 337, 'like': 300, 'im': 293, 'go': 231, 'one': 214, 'time': 201, 'dont': 195, 'love': 176, 'make': 175, 'new': 167, 'look': 164}\n"
          ],
          "name": "stdout"
        }
      ]
    },
    {
      "cell_type": "code",
      "metadata": {
        "id": "qcD9Zpi_LyXX",
        "outputId": "b2f03691-694f-4e64-fc1b-694c5554d099"
      },
      "source": [
        "plt.bar(range(len(top_10_male)), top_10_male.values())\n",
        "plt.xticks(range(len(top_10_male)), list(top_10_male.keys()))\n",
        "plt.show()"
      ],
      "execution_count": null,
      "outputs": [
        {
          "output_type": "display_data",
          "data": {
            "image/png": "[encoded data removed]",
            "text/plain": [
              "<Figure size 432x288 with 1 Axes>"
            ]
          },
          "metadata": {
            "tags": []
          }
        }
      ]
    },
    {
      "cell_type": "code",
      "metadata": {
        "id": "jBXnlgoHLyXb"
      },
      "source": [
        "female_corpus=[]\n",
        "for i in female_text:\n",
        "    message = i.lower()\n",
        "    message = message.split()\n",
        "    ps = PorterStemmer()\n",
        "    all_words = stopwords.words('english')\n",
        "    message = [ps.stem(word) for word in message if not word in set(all_words)]\n",
        "    message = ' '.join(message)\n",
        "    female_corpus.append(message)"
      ],
      "execution_count": null,
      "outputs": []
    },
    {
      "cell_type": "code",
      "metadata": {
        "id": "QLmWvP7jLyXe",
        "outputId": "3ffd9137-4ff2-4db3-ff79-eb4c2934c4a7"
      },
      "source": [
        "female_words={}\n",
        "for i in range(0,len(female_corpus)):\n",
        "    text = female_corpus[i].split(' ')\n",
        "    for word in text:\n",
        "        if word in female_words:\n",
        "            female_words[word]+=1\n",
        "        else:\n",
        "            female_words.update({word:1})\n",
        "        \n",
        "female_all_words = pd.Series(female_words)\n",
        "top_10_female = female_all_words.sort_values(ascending=False)[:11].to_dict()\n",
        "print(top_10_female)"
      ],
      "execution_count": null,
      "outputs": [
        {
          "output_type": "stream",
          "text": [
            "{'im': 529, 'like': 386, 'get': 384, 'go': 329, 'day': 304, 'love': 303, 'one': 287, 'make': 242, 'dont': 238, 'time': 232, 'peopl': 202}\n"
          ],
          "name": "stdout"
        }
      ]
    },
    {
      "cell_type": "code",
      "metadata": {
        "id": "kibzGJZFLyXh",
        "outputId": "e8d29350-0385-4754-940b-f58704a3bd14"
      },
      "source": [
        "plt.bar(range(len(top_10_female)), top_10_female.values())\n",
        "plt.xticks(range(len(top_10_female)), list(top_10_female.keys()))\n",
        "plt.show()"
      ],
      "execution_count": null,
      "outputs": [
        {
          "output_type": "display_data",
          "data": {
            "image/png": "[encoded data removed]",
            "text/plain": [
              "<Figure size 432x288 with 1 Axes>"
            ]
          },
          "metadata": {
            "tags": []
          }
        }
      ]
    },
    {
      "cell_type": "code",
      "metadata": {
        "id": "JzmJBhWELyXk",
        "outputId": "6a7a44a8-1aa0-4215-e08a-c1f643b42a36"
      },
      "source": [
        "male_all_words=list(male_words.keys())\n",
        "print(male_all_words[:11])"
      ],
      "execution_count": null,
      "outputs": [
        {
          "output_type": "stream",
          "text": [
            "['robbi', 'e', 'respond', 'critic', 'win', 'eddi', 'edward', 'worldtitleseri', 'felt', 'like', 'friend']\n"
          ],
          "name": "stdout"
        }
      ]
    },
    {
      "cell_type": "code",
      "metadata": {
        "id": "1s7ykHmWLyXn",
        "outputId": "51eee894-3ed2-4877-9d51-2309656a5921"
      },
      "source": [
        "female_all_words=list(female_words.keys())\n",
        "print(female_all_words[:11])"
      ],
      "execution_count": null,
      "outputs": [
        {
          "output_type": "stream",
          "text": [
            "['watch', 'neighbour', 'sky', 'catch', 'neighb', 'xxx', 'ive', 'seen', 'peopl', 'train', 'lamp']\n"
          ],
          "name": "stdout"
        }
      ]
    },
    {
      "cell_type": "code",
      "metadata": {
        "id": "l4FtjSqOLyXq"
      },
      "source": [
        "spell = SpellChecker()\n",
        "misspelled_m = spell.unknown(male_all_words)\n",
        "misspelled_f = spell.unknown(female_all_words)\n",
        "misspelled_m = list(misspelled_m)\n",
        "misspelled_f = list(misspelled_f)\n",
        "misspelled = {'males':len(misspelled_m),'felmales':len(misspelled_f)}"
      ],
      "execution_count": null,
      "outputs": []
    },
    {
      "cell_type": "code",
      "metadata": {
        "id": "8JuCNIRZLyXt",
        "outputId": "64dde231-64c1-47d6-e2d9-77142d862a90"
      },
      "source": [
        "plt.bar(range(len(misspelled)), misspelled.values())\n",
        "plt.xticks(range(len(misspelled)), list(misspelled.keys()))\n",
        "plt.show()"
      ],
      "execution_count": null,
      "outputs": [
        {
          "output_type": "display_data",
          "data": {
            "image/png": "[encoded data removed]",
            "text/plain": [
              "<Figure size 432x288 with 1 Axes>"
            ]
          },
          "metadata": {
            "tags": []
          }
        }
      ]
    },
    {
      "cell_type": "code",
      "metadata": {
        "id": "N4_kqGwOLyXw",
        "outputId": "89640ad5-4cda-4e99-ea3a-12ff1d4d763a"
      },
      "source": [
        "if len(misspelled_m) > len(misspelled_f):\n",
        "    print('males (%s) make more typos than females (%s)'%(len(misspelled_m),len(misspelled_f)))\n",
        "else:\n",
        "    print('females (%s) make more typos than males (%s)'%(len(misspelled_f),len(misspelled_m)))  "
      ],
      "execution_count": null,
      "outputs": [
        {
          "output_type": "stream",
          "text": [
            "males (6569) make more typos than females (5995)\n"
          ],
          "name": "stdout"
        }
      ]
    },
    {
      "cell_type": "markdown",
      "metadata": {
        "id": "t05o6v3TLyXz"
      },
      "source": [
        "# Data preprocessing"
      ]
    },
    {
      "cell_type": "code",
      "metadata": {
        "id": "ggAck6UOLyXz"
      },
      "source": [
        "from sklearn.feature_extraction.text import CountVectorizer\n",
        "\n",
        "cv = CountVectorizer()\n",
        "\n",
        "x = cv.fit_transform(dataset_new['clean_text']).toarray()"
      ],
      "execution_count": null,
      "outputs": []
    },
    {
      "cell_type": "code",
      "metadata": {
        "id": "Aau-q_dULyX2"
      },
      "source": [
        "from sklearn.preprocessing import LabelEncoder\n",
        "le = LabelEncoder()\n",
        "y=le.fit_transform(dataset_new['gender'])"
      ],
      "execution_count": null,
      "outputs": []
    },
    {
      "cell_type": "code",
      "metadata": {
        "id": "jDH2JpDmLyX6"
      },
      "source": [
        "from sklearn.model_selection import train_test_split\n",
        "\n",
        "x_train, x_test, y_train, y_test = train_test_split(x, y,test_size=0.3)"
      ],
      "execution_count": null,
      "outputs": []
    },
    {
      "cell_type": "markdown",
      "metadata": {
        "id": "qCCfRRF8LyX-"
      },
      "source": [
        "# Naive Bayes"
      ]
    },
    {
      "cell_type": "code",
      "metadata": {
        "id": "c0Pv1Kt0LyX-",
        "outputId": "3fc95633-7937-4eea-aa8f-366589d0c585"
      },
      "source": [
        "from sklearn.naive_bayes import MultinomialNB\n",
        "\n",
        "nv = MultinomialNB()\n",
        "\n",
        "nv.fit(x_train, y_train)\n",
        "\n",
        "y_pred_nv = nv.predict(x_test)\n",
        "\n",
        "from sklearn.metrics import accuracy_score\n",
        "\n",
        "accuracy_score(y_test, y_pred_nv)"
      ],
      "execution_count": null,
      "outputs": [
        {
          "output_type": "execute_result",
          "data": {
            "text/plain": [
              "0.6224218230206254"
            ]
          },
          "metadata": {
            "tags": []
          },
          "execution_count": 42
        }
      ]
    },
    {
      "cell_type": "markdown",
      "metadata": {
        "id": "JeBkFt2TLyYC"
      },
      "source": [
        "# Random Forest"
      ]
    },
    {
      "cell_type": "code",
      "metadata": {
        "id": "uRQw_YbiLyYD",
        "outputId": "2246c09b-bfb1-4a84-a393-3db5d25c733b"
      },
      "source": [
        "from sklearn.ensemble import RandomForestClassifier\n",
        "rfc = RandomForestClassifier(n_estimators = 50)\n",
        "rfc.fit(x_train, y_train)\n",
        "\n",
        "y_pred_rfc = rfc.predict(x_test)\n",
        "\n",
        "accuracy_score(y_test, y_pred_rfc)"
      ],
      "execution_count": null,
      "outputs": [
        {
          "output_type": "execute_result",
          "data": {
            "text/plain": [
              "0.582168995342648"
            ]
          },
          "metadata": {
            "tags": []
          },
          "execution_count": 46
        }
      ]
    },
    {
      "cell_type": "markdown",
      "metadata": {
        "id": "sZG44XVDLyYH"
      },
      "source": [
        "# Decision Tree"
      ]
    },
    {
      "cell_type": "code",
      "metadata": {
        "id": "wMPme_y9LyYI",
        "outputId": "93673303-1932-4df3-d81f-1263b54a493d"
      },
      "source": [
        "from sklearn.tree import DecisionTreeClassifier\n",
        "dtc = DecisionTreeClassifier()\n",
        "dtc.fit(x_train, y_train)\n",
        "\n",
        "y_pred_dtc = dtc.predict(x_test)\n",
        "\n",
        "accuracy_score(y_test, y_pred_dtc)"
      ],
      "execution_count": null,
      "outputs": [
        {
          "output_type": "execute_result",
          "data": {
            "text/plain": [
              "0.5538922155688623"
            ]
          },
          "metadata": {
            "tags": []
          },
          "execution_count": 47
        }
      ]
    },
    {
      "cell_type": "code",
      "metadata": {
        "id": "sLePYHqFLyYL"
      },
      "source": [
        ""
      ],
      "execution_count": null,
      "outputs": []
    },
    {
      "cell_type": "code",
      "metadata": {
        "id": "79Z8wAEJLyYO"
      },
      "source": [
        ""
      ],
      "execution_count": null,
      "outputs": []
    }
  ]
}